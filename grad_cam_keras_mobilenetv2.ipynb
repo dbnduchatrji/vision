{
  "nbformat": 4,
  "nbformat_minor": 0,
  "metadata": {
    "colab": {
      "name": "grad_cam_keras_mobilenetv2",
      "provenance": [],
      "collapsed_sections": [],
      "toc_visible": true
    },
    "kernelspec": {
      "display_name": "Python 3",
      "language": "python",
      "name": "python3"
    },
    "language_info": {
      "codemirror_mode": {
        "name": "ipython",
        "version": 3
      },
      "file_extension": ".py",
      "mimetype": "text/x-python",
      "name": "python",
      "nbconvert_exporter": "python",
      "pygments_lexer": "ipython3",
      "version": "3.7.0"
    }
  },
  "cells": [
    {
      "cell_type": "markdown",
      "metadata": {
        "id": "a53yeKBYj1tP"
      },
      "source": [
        "# **Grad-CAM class activation visualization**\n",
        "# **Author** -> Dibyendu Chatterjee\n",
        "\n",
        "\n",
        "[![Open In Colab](https://colab.research.google.com/assets/colab-badge.svg)](https://colab.research.google.com/github/dchatterjee/image-classification/blob/main/grad_cam_keras_mobilenetv2.ipynb)\n",
        "\n",
        "## credits :\n",
        "Grad-CAM -> https://arxiv.org/abs/1610.02391\n",
        "\n",
        "Ramprasaath R. Selvaraju, Michael Cogswell, Abhishek Das, Ramakrishna Vedantam, Devi Parikh, Dhruv Batra\n",
        "\n",
        "MobileNetV2 -> https://arxiv.org/abs/1801.04381\n",
        "\n",
        "Mark Sandler, Andrew Howard, Menglong Zhu, Andrey Zhmoginov, Liang-Chieh Chen\n",
        "\n",
        "François Chollet\n",
        "\n",
        "\n",
        "\n"
      ]
    },
    {
      "cell_type": "markdown",
      "metadata": {
        "id": "tEGNvuqSZqyZ"
      },
      "source": [
        "# **Setting up the environment**"
      ]
    },
    {
      "cell_type": "markdown",
      "metadata": {
        "id": "1LltLkA0j1tV"
      },
      "source": [
        "## imports\n"
      ]
    },
    {
      "cell_type": "code",
      "metadata": {
        "id": "6Oio9ch3j1tZ"
      },
      "source": [
        "import numpy as np\n",
        "import tensorflow as tf\n",
        "from tensorflow import keras\n",
        "\n",
        "# Display\n",
        "from IPython.display import Image\n",
        "import matplotlib.pyplot as plt\n",
        "import matplotlib.cm as cm\n"
      ],
      "execution_count": 1,
      "outputs": []
    },
    {
      "cell_type": "markdown",
      "metadata": {
        "id": "1EoDj2779kIN"
      },
      "source": [
        "## The Grad-CAM algorithm"
      ]
    },
    {
      "cell_type": "code",
      "metadata": {
        "id": "dCYNcbmAj1ta"
      },
      "source": [
        "\n",
        "def get_img_array(img_path, size):\n",
        "    img = keras.preprocessing.image.load_img(img_path, target_size=size)\n",
        "    array = keras.preprocessing.image.img_to_array(img)\n",
        "    array = np.expand_dims(array, axis=0)\n",
        "    return array\n",
        "\n",
        "\n",
        "def make_gradcam_heatmap(\n",
        "    img_array, model, last_conv_layer_name, classifier_layer_names\n",
        "):\n",
        "    # First, we create a model that maps the input image to the activations\n",
        "    # of the last conv layer\n",
        "    last_conv_layer = model.get_layer(last_conv_layer_name)\n",
        "    last_conv_layer_model = keras.Model(model.inputs, last_conv_layer.output)\n",
        "\n",
        "    # Second, we create a model that maps the activations of the last conv\n",
        "    # layer to the final class predictions\n",
        "    classifier_input = keras.Input(shape=last_conv_layer.output.shape[1:])\n",
        "    x = classifier_input\n",
        "    for layer_name in classifier_layer_names:\n",
        "        x = model.get_layer(layer_name)(x)\n",
        "    classifier_model = keras.Model(classifier_input, x)\n",
        "\n",
        "    # Then, we compute the gradient of the top predicted class for our input image\n",
        "    # with respect to the activations of the last conv layer\n",
        "    with tf.GradientTape() as tape:\n",
        "        # Compute activations of the last conv layer and make the tape watch it\n",
        "        last_conv_layer_output = last_conv_layer_model(img_array)\n",
        "        tape.watch(last_conv_layer_output)\n",
        "        # Compute class predictions\n",
        "        preds = classifier_model(last_conv_layer_output)\n",
        "        top_pred_index = tf.argmax(preds[0])\n",
        "        top_class_channel = preds[:, top_pred_index]\n",
        "\n",
        "    # This is the gradient of the top predicted class with regard to\n",
        "    # the output feature map of the last conv layer\n",
        "    grads = tape.gradient(top_class_channel, last_conv_layer_output)\n",
        "\n",
        "    # This is a vector where each entry is the mean intensity of the gradient\n",
        "    # over a specific feature map channel\n",
        "    pooled_grads = tf.reduce_mean(grads, axis=(0, 1, 2))\n",
        "\n",
        "    # We multiply each channel in the feature map array\n",
        "    # by \"how important this channel is\" with regard to the top predicted class\n",
        "    last_conv_layer_output = last_conv_layer_output.numpy()[0]\n",
        "    pooled_grads = pooled_grads.numpy()\n",
        "    for i in range(pooled_grads.shape[-1]):\n",
        "        last_conv_layer_output[:, :, i] *= pooled_grads[i]\n",
        "\n",
        "    # The channel-wise mean of the resulting feature map\n",
        "    # is our heatmap of class activation\n",
        "    heatmap = np.mean(last_conv_layer_output, axis=-1)\n",
        "\n",
        "    # For visualization purpose, we will also normalize the heatmap between 0 & 1\n",
        "    heatmap = np.maximum(heatmap, 0) / np.max(heatmap)\n",
        "    return heatmap\n",
        "\n"
      ],
      "execution_count": 2,
      "outputs": []
    },
    {
      "cell_type": "markdown",
      "metadata": {
        "id": "Cv3aFxoBPJ74"
      },
      "source": [
        "# build the model"
      ]
    },
    {
      "cell_type": "markdown",
      "metadata": {
        "id": "XZKrK9WWbBgQ"
      },
      "source": [
        "## mobilenet v2"
      ]
    },
    {
      "cell_type": "code",
      "metadata": {
        "id": "d9J6LOihj1ta"
      },
      "source": [
        "model_builder = keras.applications.mobilenet_v2.MobileNetV2\n",
        "img_size = (224, 224)\n",
        "preprocess_input = keras.applications.mobilenet_v2.preprocess_input\n",
        "decode_predictions = keras.applications.mobilenet_v2.decode_predictions\n",
        "\n",
        "# Make model\n",
        "model = model_builder(weights=\"imagenet\")\n",
        "\n",
        "model.summary()\n"
      ],
      "execution_count": null,
      "outputs": []
    },
    {
      "cell_type": "markdown",
      "metadata": {
        "id": "dErqSTylbGYa"
      },
      "source": [
        "## Xception"
      ]
    },
    {
      "cell_type": "code",
      "metadata": {
        "id": "6szC3LffbJOb"
      },
      "source": [
        "model_builder = keras.applications.xception.Xception\r\n",
        "img_size = (299, 299)\r\n",
        "preprocess_input = keras.applications.xception.preprocess_input\r\n",
        "decode_predictions = keras.applications.xception.decode_predictions\r\n",
        "\r\n",
        "# Make model\r\n",
        "model = model_builder(weights=\"imagenet\")\r\n",
        "\r\n",
        "model.summary()"
      ],
      "execution_count": null,
      "outputs": []
    },
    {
      "cell_type": "markdown",
      "metadata": {
        "id": "Sa2qR3PVzMAq"
      },
      "source": [
        "# identify the last layers"
      ]
    },
    {
      "cell_type": "markdown",
      "metadata": {
        "id": "AgK7yfZ0j1tb"
      },
      "source": [
        "## mobilenet v2 conv + classification layer description\n",
        "\n",
        "make sure you check the names of the layers from the model summary.\n"
      ]
    },
    {
      "cell_type": "code",
      "metadata": {
        "id": "5wqM6pHZb6xB"
      },
      "source": [
        "last_conv_layer_name = \"Conv_1_bn\"\r\n",
        "classifier_layer_names = [\r\n",
        "    \"global_average_pooling2d\",\r\n",
        "    \"predictions\",\r\n",
        "]"
      ],
      "execution_count": 4,
      "outputs": []
    },
    {
      "cell_type": "markdown",
      "metadata": {
        "id": "VUyN9NCccqPZ"
      },
      "source": [
        "## Xception -> conv + classification layer description\r\n",
        "\r\n",
        "make sure you check the names of the layers from the model summary."
      ]
    },
    {
      "cell_type": "code",
      "metadata": {
        "id": "ft6PqBR_c0pL"
      },
      "source": [
        "last_conv_layer_name = \"block14_sepconv2_act\"\r\n",
        "classifier_layer_names = [\r\n",
        "    \"avg_pool\",\r\n",
        "    \"predictions\",\r\n",
        "]"
      ],
      "execution_count": 28,
      "outputs": []
    },
    {
      "cell_type": "markdown",
      "metadata": {
        "id": "QjnLHVZp8KzX"
      },
      "source": [
        "# **Run it !!**"
      ]
    },
    {
      "cell_type": "markdown",
      "metadata": {
        "id": "PhL8SBydZ6Yy"
      },
      "source": [
        "# get the image file for inference"
      ]
    },
    {
      "cell_type": "code",
      "metadata": {
        "id": "qqmhyLn833Do"
      },
      "source": [
        "import numpy as np\r\n",
        "from google.colab import files\r\n",
        "from keras.preprocessing import image\r\n",
        "\r\n",
        "uploaded = files.upload()\r\n",
        "\r\n",
        "for fn in uploaded.keys():\r\n",
        "  img_path = '/content/' + fn\r\n",
        "\r\n",
        "# Prepare image\r\n",
        "img_array = preprocess_input(get_img_array(img_path, size=img_size))\r\n",
        "\r\n",
        "display(Image(img_path))"
      ],
      "execution_count": null,
      "outputs": []
    },
    {
      "cell_type": "markdown",
      "metadata": {
        "id": "VASiRMx4cFCy"
      },
      "source": [
        "# run the prediction"
      ]
    },
    {
      "cell_type": "code",
      "metadata": {
        "id": "apu35bL3j1tb",
        "colab": {
          "base_uri": "https://localhost:8080/",
          "height": 309
        },
        "outputId": "f6e92a48-e632-417b-ec94-9d3433fc0f69"
      },
      "source": [
        "# Print what the top predicted class is\n",
        "preds = model.predict(img_array)\n",
        "print(model.name)\n",
        "print(\"Predicted:\", decode_predictions(preds, top=2)[0])\n",
        "\n",
        "# Generate class activation heatmap\n",
        "heatmap = make_gradcam_heatmap(\n",
        "    img_array, model, last_conv_layer_name, classifier_layer_names\n",
        ")\n",
        "\n",
        "# Display heatmap\n",
        "plt.matshow(heatmap)\n",
        "plt.show()\n"
      ],
      "execution_count": 33,
      "outputs": [
        {
          "output_type": "stream",
          "text": [
            "xception\n",
            "Predicted: [('n04162706', 'seat_belt', 0.8722702), ('n03670208', 'limousine', 0.07068486)]\n"
          ],
          "name": "stdout"
        },
        {
          "output_type": "display_data",
          "data": {
            "image/png": "[encoded data removed]",
            "text/plain": [
              "<Figure size 288x288 with 1 Axes>"
            ]
          },
          "metadata": {
            "tags": [],
            "needs_background": "light"
          }
        }
      ]
    },
    {
      "cell_type": "markdown",
      "metadata": {
        "id": "hjvCVyBrj1tc"
      },
      "source": [
        "# Create a superimposed visualization\n",
        "\n",
        "jet colormap\n",
        "\n",
        "https://in.mathworks.com/help/matlab/ref/jet.html\n",
        "\n"
      ]
    },
    {
      "cell_type": "code",
      "metadata": {
        "id": "cNGubi5Lj1tc",
        "colab": {
          "base_uri": "https://localhost:8080/",
          "height": 509
        },
        "outputId": "d62384af-db18-4680-f7a1-b6029b64a221"
      },
      "source": [
        "# We load the original image\n",
        "img = keras.preprocessing.image.load_img(img_path)\n",
        "img = keras.preprocessing.image.img_to_array(img)\n",
        "\n",
        "# We rescale heatmap to a range 0-255\n",
        "heatmap = np.uint8(255 * heatmap)\n",
        "\n",
        "# We use jet colormap to colorize heatmap\n",
        "jet = cm.get_cmap(\"jet\")\n",
        "\n",
        "# We use RGB values of the colormap\n",
        "jet_colors = jet(np.arange(256))[:, :3]\n",
        "jet_heatmap = jet_colors[heatmap]\n",
        "\n",
        "# We create an image with RGB colorized heatmap\n",
        "jet_heatmap = keras.preprocessing.image.array_to_img(jet_heatmap)\n",
        "jet_heatmap = jet_heatmap.resize((img.shape[1], img.shape[0]))\n",
        "jet_heatmap = keras.preprocessing.image.img_to_array(jet_heatmap)\n",
        "\n",
        "# Superimpose the heatmap on original image\n",
        "superimposed_img = jet_heatmap * 0.4 + img\n",
        "superimposed_img = keras.preprocessing.image.array_to_img(superimposed_img)\n",
        "\n",
        "# Save the superimposed image\n",
        "save_path = \"path.jpg\"\n",
        "superimposed_img.save(save_path)\n",
        "\n",
        "# Display Grad CAM\n",
        "display(Image(save_path))\n"
      ],
      "execution_count": 34,
      "outputs": [
        {
          "output_type": "display_data",
          "data": {
            "image/jpeg": "[encoded data removed]",
            "text/plain": [
              "<IPython.core.display.Image object>"
            ]
          },
          "metadata": {
            "tags": []
          }
        }
      ]
    }
  ]
}